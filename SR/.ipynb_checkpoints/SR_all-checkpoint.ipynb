{
 "cells": [
  {
   "cell_type": "code",
   "execution_count": 110,
   "metadata": {},
   "outputs": [],
   "source": [
    "import os\n",
    "import numpy as np\n",
    "import pandas as pd\n",
    "import math\n",
    "from pyomo.environ import *\n",
    "from collections import defaultdict\n",
    "from pyomo.opt import SolverFactory\n",
    "from datetime import timedelta\n",
    "from datetime import datetime\n",
    "import random\n",
    "\n",
    "import shutil\n",
    "import subprocess\n",
    "random.seed(111)"
   ]
  },
  {
   "cell_type": "code",
   "execution_count": 111,
   "metadata": {},
   "outputs": [],
   "source": [
    "now = datetime.now()\n",
    "now = now.strftime(\"%m%d_%H_%M\")\n",
    "os.mkdir(now)\n",
    "\n",
    "raw = pd.read_csv('../../init_data.csv', header=0, index_col=0)\n",
    "\n",
    "\n",
    "\n",
    "#general param\n",
    "states_name = raw['State']\n",
    "first_date = '2020/03/25'\n",
    "\n",
    "t = 7\n",
    "T = 14\n",
    "P = 10\n",
    "S = 51\n",
    "P = 10\n",
    "\n",
    "lbd = 0.01\n",
    "SNS_stock = 12000\n",
    "init_ratio = 0.6\n",
    "flow_bound_ratio = 0.20\n",
    "stock_bound_ratio = 0.5\n",
    "\n",
    "#write to file\n",
    "with open('temp.txt', 'w') as f:\n",
    "    f.write('now=\\'{}\\'\\ndate=\\'{}\\''.format(now, first_date))\n",
    "    \n",
    "with open(now + '/config.txt', 'w') as f:\n",
    "    f.write('lbd={} \\nSNS_stock={} \\ninit_ratio={} \\nflow_bound_ratio={} \\nstock_bound_ratio={}\\n'.format(lbd, SNS_stock, init_ratio, flow_bound_ratio,stock_bound_ratio))"
   ]
  },
  {
   "cell_type": "code",
   "execution_count": 112,
   "metadata": {},
   "outputs": [],
   "source": [
    "prev_date = pd.to_datetime(first_date) - timedelta(t)\n",
    "data = raw.rename(columns={'Available capacity': \"stock_self\"})\n",
    "data['stock_self'] = round(init_ratio * data['stock_self'])\n",
    "data['stock_nb'] = None\n",
    "for i in range(S):\n",
    "    data.loc[i, 'stock_nb'] = str([0 for _ in eval(data.loc[i, 'nb'])])\n",
    "data['stock_sns'] = [0 for _ in range(S)]\n",
    "data.to_csv(now + '/' + prev_date.strftime('%m%d') + '.csv')"
   ]
  },
  {
   "cell_type": "code",
   "execution_count": null,
   "metadata": {},
   "outputs": [],
   "source": []
  },
  {
   "cell_type": "code",
   "execution_count": 113,
   "metadata": {},
   "outputs": [],
   "source": [
    "idx = 0\n",
    "flow_mapping = {}\n",
    "flow_mapping_rev = {}\n",
    "out_flow = defaultdict(list)\n",
    "in_flow = defaultdict(list)\n",
    "\n",
    "for i in range(51):\n",
    "    nbs = eval(data.iloc[i, 3])\n",
    "    out_flow[i] = nbs\n",
    "    for n in nbs:\n",
    "        flow_mapping[(i, n)] = idx\n",
    "        flow_mapping_rev[idx] = (i, n)\n",
    "        in_flow[n].append(i)\n",
    "        idx += 1\n",
    "\n",
    "idx_nb = idx\n",
    "in_flow[51] = []\n",
    "out_flow[51] = list(range(51))\n",
    "for n in range(51):\n",
    "    flow_mapping[(51, n)] = idx\n",
    "    flow_mapping_rev[idx] = (51, n)\n",
    "    idx += 1"
   ]
  },
  {
   "cell_type": "code",
   "execution_count": 47,
   "metadata": {},
   "outputs": [],
   "source": [
    "date = pd.to_datetime(first_date)"
   ]
  },
  {
   "cell_type": "code",
   "execution_count": null,
   "metadata": {},
   "outputs": [],
   "source": []
  },
  {
   "cell_type": "code",
   "execution_count": 114,
   "metadata": {},
   "outputs": [],
   "source": [
    "def sto_file_generator(date, sto):\n",
    "    #open the cor file\n",
    "    prob_name = 'SR_{}'.format(date.strftime(\"%m%d\"))\n",
    "    sto_file = open(sto, 'w')\n",
    "    \n",
    "    sto_file.write('STOCH ' + prob_name + ' \\n')\n",
    "    sto_file.write('BLOCKS DISCRETE REPLACE\\n')\n",
    "    probability = 1 / 3\n",
    "    \n",
    "    for j in range(S):\n",
    "        demand_state = pd.read_csv('../../IHME/' + date.strftime(\"%m%d\") + '/' + data.loc[j, 'State'] + '.csv', header=0, index_col=0)\n",
    "        paths = [demand_state['InvVen_mean'], demand_state['InvVen_mean'] + (demand_state['InvVen_upper'] - demand_state['InvVen_mean']) / 2, demand_state['InvVen_mean'] + (demand_state['InvVen_lower'] - demand_state['InvVen_mean']) / 2] \n",
    "        for k in range(3):\n",
    "            sto_file.write(' BL BLOCK{} PERIOD2 {}\\n'.format(j, probability))\n",
    "\n",
    "            path = {}\n",
    "            for time in range(1, t + 1):\n",
    "                n = 'c_e_dummy_d({}_{})_'.format(j, time)\n",
    "                path[n] =  math.ceil(paths[k][time - 1])\n",
    "            path_sorted = sorted(path.items())\n",
    "            for i in path_sorted:\n",
    "                sto_file.write('\\t RHS {} {}\\n'.format(i[0], i[1]))\n",
    "\n",
    "       \n",
    "    sto_file.write('ENDATA \\n')\n",
    "    sto_file.close()"
   ]
  },
  {
   "cell_type": "code",
   "execution_count": 115,
   "metadata": {},
   "outputs": [],
   "source": [
    "# subprocess.run(['./SD_xcode', 'SR_{}'.format(date.strftime(\"%m%d\")),'./spInput/', './spOutput'], cwd='/Users/jjxu/Desktop/covid_system/SD/')"
   ]
  },
  {
   "cell_type": "code",
   "execution_count": 116,
   "metadata": {},
   "outputs": [],
   "source": [
    "def analysis_results(now, date):\n",
    "    prev_date = date - timedelta(7)\n",
    "    data = pd.read_csv('{}/{}.csv'.format(now, prev_date.strftime(\"%m%d\")), header=0, index_col=0)\n",
    "    sol = pd.read_csv('{}/res/SR_{}/sol.csv'.format(now, date.strftime(\"%m%d\")), header=None, index_col=None)\n",
    "    new_stock_self = [0 for _ in range(52)]\n",
    "    new_flow = defaultdict(int)\n",
    "    new_stock_sns = [0 for _ in range(51)]\n",
    "    for i in range(sol.shape[0]):\n",
    "        name = sol.iloc[i, 0].split('(')\n",
    "        if name[0] == 's0':\n",
    "            new_stock_self[int(name[1].split(')')[0])] = int(round(sol.iloc[i, 1]))\n",
    "        if name[0] == 's0_nb':\n",
    "            cnt = int(name[1].split(')')[0])\n",
    "            f, t = flow_mapping_rev[cnt] \n",
    "            if f == 51:\n",
    "                new_stock_sns[t] = int(round(sol.iloc[i, 1]))    \n",
    "            else:\n",
    "                new_flow[flow_mapping_rev[cnt]] = int(round(sol.iloc[i, 1]))\n",
    "            \n",
    "            \n",
    "    data['stock_self'] = new_stock_self[:-1]\n",
    "    data['stock_sns'] = new_stock_sns\n",
    "    for i in range(51):\n",
    "        l1 = eval(data.loc[i, 'nb_idx'])\n",
    "        l2 = [new_flow[j, i] for j in l1]\n",
    "        data.loc[i, 'stock_nb'] = str(l2)\n",
    "        \n",
    "    data.to_csv('{}/{}.csv'.format(now, date.strftime(\"%m%d\")))\n",
    "    "
   ]
  },
  {
   "cell_type": "code",
   "execution_count": 107,
   "metadata": {},
   "outputs": [],
   "source": []
  },
  {
   "cell_type": "code",
   "execution_count": 117,
   "metadata": {},
   "outputs": [],
   "source": [
    "#generate SPMS model\n",
    "#solve with SD\n",
    "#generate new initial data file\n",
    "def solve_model(now, date):\n",
    "    #now: string format\n",
    "    #date: datetime format\n",
    "    #generate SMPS\n",
    "    os.system(\"python -m pyomo.pysp.convert.smps -m SR.py --symbolic-solver-labels --basename SR_{} --output-directory {}/SR_{}\".format(date.strftime(\"%m%d\"), now, date.strftime(\"%m%d\")))\n",
    "    sto = \"{}/SR_{name}/SR_{name}.sto\".format(now, name=date.strftime(\"%m%d\"))\n",
    "    if os.path.exists(sto):\n",
    "        os.remove(sto)\n",
    "    sto_file_generator(date, sto)\n",
    "    \n",
    "    #move sd input file\n",
    "    source = \"{}/SR_{name}\".format(now, name=date.strftime(\"%m%d\"))\n",
    "    destination = \"../../SD/spInput/\"\n",
    "    input_file = \"../../SD/spInput/SR_{}\".format(date.strftime(\"%m%d\"))\n",
    "    if os.path.exists(input_file):\n",
    "        os.remove(input_file)\n",
    "    shutil.move(source, destination)\n",
    "    \n",
    "    #run SD\n",
    "    subprocess.run(['./SD_xcode', 'SR_{}'.format(date.strftime(\"%m%d\")),'./spInput/', './spOutput'], cwd='/Users/jjxu/Desktop/covid_system/SD/')\n",
    "    source = \"../../SD/spOutputtwoSD/SR_{name}\".format(name=date.strftime(\"%m%d\"))\n",
    "    destination = \"{}/res/SR_{}\".format(now, date.strftime(\"%m%d\"))\n",
    "    shutil.move(source, destination)\n",
    "    \n",
    "    #analysis current solution and generate new init data\n",
    "    analysis_results(now, date)"
   ]
  },
  {
   "cell_type": "code",
   "execution_count": 119,
   "metadata": {},
   "outputs": [
    {
     "data": {
      "text/plain": [
       "'1227_10_38/res/SR_0325'"
      ]
     },
     "execution_count": 119,
     "metadata": {},
     "output_type": "execute_result"
    }
   ],
   "source": [
    "source = \"../../SD/spOutputtwoSD/SR_{}\".format(date.strftime(\"%m%d\"))\n",
    "destination = \"{}/res/SR_{}\".format(now, date.strftime(\"%m%d\"))\n",
    "shutil.move(source, destination)"
   ]
  },
  {
   "cell_type": "code",
   "execution_count": null,
   "metadata": {},
   "outputs": [],
   "source": []
  },
  {
   "cell_type": "code",
   "execution_count": null,
   "metadata": {},
   "outputs": [],
   "source": []
  },
  {
   "cell_type": "code",
   "execution_count": null,
   "metadata": {},
   "outputs": [],
   "source": []
  },
  {
   "cell_type": "code",
   "execution_count": 118,
   "metadata": {},
   "outputs": [
    {
     "ename": "FileNotFoundError",
     "evalue": "[Errno 2] File b'1227_10_38/res/SR_0325/sol.csv' does not exist: b'1227_10_38/res/SR_0325/sol.csv'",
     "output_type": "error",
     "traceback": [
      "\u001b[0;31m---------------------------------------------------------------------------\u001b[0m",
      "\u001b[0;31mFileNotFoundError\u001b[0m                         Traceback (most recent call last)",
      "\u001b[0;32m<ipython-input-118-725f185e4063>\u001b[0m in \u001b[0;36m<module>\u001b[0;34m\u001b[0m\n\u001b[1;32m      4\u001b[0m         \u001b[0mf\u001b[0m\u001b[0;34m.\u001b[0m\u001b[0mwrite\u001b[0m\u001b[0;34m(\u001b[0m\u001b[0;34m'now=\\'{}\\'\\ndate=\\'{}\\''\u001b[0m\u001b[0;34m.\u001b[0m\u001b[0mformat\u001b[0m\u001b[0;34m(\u001b[0m\u001b[0mnow\u001b[0m\u001b[0;34m,\u001b[0m \u001b[0mdate\u001b[0m\u001b[0;34m.\u001b[0m\u001b[0mstrftime\u001b[0m\u001b[0;34m(\u001b[0m\u001b[0;34m'%Y/%m/%d'\u001b[0m\u001b[0;34m)\u001b[0m\u001b[0;34m)\u001b[0m\u001b[0;34m)\u001b[0m\u001b[0;34m\u001b[0m\u001b[0;34m\u001b[0m\u001b[0m\n\u001b[1;32m      5\u001b[0m \u001b[0;34m\u001b[0m\u001b[0m\n\u001b[0;32m----> 6\u001b[0;31m     \u001b[0msolve_model\u001b[0m\u001b[0;34m(\u001b[0m\u001b[0mnow\u001b[0m\u001b[0;34m,\u001b[0m \u001b[0mdate\u001b[0m\u001b[0;34m)\u001b[0m\u001b[0;34m\u001b[0m\u001b[0;34m\u001b[0m\u001b[0m\n\u001b[0m\u001b[1;32m      7\u001b[0m     \u001b[0mprint\u001b[0m\u001b[0;34m(\u001b[0m\u001b[0;34m'Finish {}'\u001b[0m\u001b[0;34m.\u001b[0m\u001b[0mformat\u001b[0m\u001b[0;34m(\u001b[0m\u001b[0mdate\u001b[0m\u001b[0;34m.\u001b[0m\u001b[0mstrftime\u001b[0m\u001b[0;34m(\u001b[0m\u001b[0;34m'%m%d'\u001b[0m\u001b[0;34m)\u001b[0m\u001b[0;34m)\u001b[0m\u001b[0;34m)\u001b[0m\u001b[0;34m\u001b[0m\u001b[0;34m\u001b[0m\u001b[0m\n",
      "\u001b[0;32m<ipython-input-117-16e2d52f6713>\u001b[0m in \u001b[0;36msolve_model\u001b[0;34m(now, date)\u001b[0m\n\u001b[1;32m     27\u001b[0m \u001b[0;34m\u001b[0m\u001b[0m\n\u001b[1;32m     28\u001b[0m     \u001b[0;31m#analysis current solution and generate new init data\u001b[0m\u001b[0;34m\u001b[0m\u001b[0;34m\u001b[0m\u001b[0;34m\u001b[0m\u001b[0m\n\u001b[0;32m---> 29\u001b[0;31m     \u001b[0manalysis_results\u001b[0m\u001b[0;34m(\u001b[0m\u001b[0mnow\u001b[0m\u001b[0;34m,\u001b[0m \u001b[0mdate\u001b[0m\u001b[0;34m)\u001b[0m\u001b[0;34m\u001b[0m\u001b[0;34m\u001b[0m\u001b[0m\n\u001b[0m",
      "\u001b[0;32m<ipython-input-116-f588d5795355>\u001b[0m in \u001b[0;36manalysis_results\u001b[0;34m(now, date)\u001b[0m\n\u001b[1;32m      2\u001b[0m     \u001b[0mprev_date\u001b[0m \u001b[0;34m=\u001b[0m \u001b[0mdate\u001b[0m \u001b[0;34m-\u001b[0m \u001b[0mtimedelta\u001b[0m\u001b[0;34m(\u001b[0m\u001b[0;36m7\u001b[0m\u001b[0;34m)\u001b[0m\u001b[0;34m\u001b[0m\u001b[0;34m\u001b[0m\u001b[0m\n\u001b[1;32m      3\u001b[0m     \u001b[0mdata\u001b[0m \u001b[0;34m=\u001b[0m \u001b[0mpd\u001b[0m\u001b[0;34m.\u001b[0m\u001b[0mread_csv\u001b[0m\u001b[0;34m(\u001b[0m\u001b[0;34m'{}/{}.csv'\u001b[0m\u001b[0;34m.\u001b[0m\u001b[0mformat\u001b[0m\u001b[0;34m(\u001b[0m\u001b[0mnow\u001b[0m\u001b[0;34m,\u001b[0m \u001b[0mprev_date\u001b[0m\u001b[0;34m.\u001b[0m\u001b[0mstrftime\u001b[0m\u001b[0;34m(\u001b[0m\u001b[0;34m\"%m%d\"\u001b[0m\u001b[0;34m)\u001b[0m\u001b[0;34m)\u001b[0m\u001b[0;34m,\u001b[0m \u001b[0mheader\u001b[0m\u001b[0;34m=\u001b[0m\u001b[0;36m0\u001b[0m\u001b[0;34m,\u001b[0m \u001b[0mindex_col\u001b[0m\u001b[0;34m=\u001b[0m\u001b[0;36m0\u001b[0m\u001b[0;34m)\u001b[0m\u001b[0;34m\u001b[0m\u001b[0;34m\u001b[0m\u001b[0m\n\u001b[0;32m----> 4\u001b[0;31m     \u001b[0msol\u001b[0m \u001b[0;34m=\u001b[0m \u001b[0mpd\u001b[0m\u001b[0;34m.\u001b[0m\u001b[0mread_csv\u001b[0m\u001b[0;34m(\u001b[0m\u001b[0;34m'{}/res/SR_{}/sol.csv'\u001b[0m\u001b[0;34m.\u001b[0m\u001b[0mformat\u001b[0m\u001b[0;34m(\u001b[0m\u001b[0mnow\u001b[0m\u001b[0;34m,\u001b[0m \u001b[0mdate\u001b[0m\u001b[0;34m.\u001b[0m\u001b[0mstrftime\u001b[0m\u001b[0;34m(\u001b[0m\u001b[0;34m\"%m%d\"\u001b[0m\u001b[0;34m)\u001b[0m\u001b[0;34m)\u001b[0m\u001b[0;34m,\u001b[0m \u001b[0mheader\u001b[0m\u001b[0;34m=\u001b[0m\u001b[0;32mNone\u001b[0m\u001b[0;34m,\u001b[0m \u001b[0mindex_col\u001b[0m\u001b[0;34m=\u001b[0m\u001b[0;32mNone\u001b[0m\u001b[0;34m)\u001b[0m\u001b[0;34m\u001b[0m\u001b[0;34m\u001b[0m\u001b[0m\n\u001b[0m\u001b[1;32m      5\u001b[0m     \u001b[0mnew_stock_self\u001b[0m \u001b[0;34m=\u001b[0m \u001b[0;34m[\u001b[0m\u001b[0;36m0\u001b[0m \u001b[0;32mfor\u001b[0m \u001b[0m_\u001b[0m \u001b[0;32min\u001b[0m \u001b[0mrange\u001b[0m\u001b[0;34m(\u001b[0m\u001b[0;36m52\u001b[0m\u001b[0;34m)\u001b[0m\u001b[0;34m]\u001b[0m\u001b[0;34m\u001b[0m\u001b[0;34m\u001b[0m\u001b[0m\n\u001b[1;32m      6\u001b[0m     \u001b[0mnew_flow\u001b[0m \u001b[0;34m=\u001b[0m \u001b[0mdefaultdict\u001b[0m\u001b[0;34m(\u001b[0m\u001b[0mint\u001b[0m\u001b[0;34m)\u001b[0m\u001b[0;34m\u001b[0m\u001b[0;34m\u001b[0m\u001b[0m\n",
      "\u001b[0;32m~/anaconda3/lib/python3.6/site-packages/pandas/io/parsers.py\u001b[0m in \u001b[0;36mparser_f\u001b[0;34m(filepath_or_buffer, sep, delimiter, header, names, index_col, usecols, squeeze, prefix, mangle_dupe_cols, dtype, engine, converters, true_values, false_values, skipinitialspace, skiprows, skipfooter, nrows, na_values, keep_default_na, na_filter, verbose, skip_blank_lines, parse_dates, infer_datetime_format, keep_date_col, date_parser, dayfirst, iterator, chunksize, compression, thousands, decimal, lineterminator, quotechar, quoting, doublequote, escapechar, comment, encoding, dialect, tupleize_cols, error_bad_lines, warn_bad_lines, delim_whitespace, low_memory, memory_map, float_precision)\u001b[0m\n\u001b[1;32m    700\u001b[0m                     skip_blank_lines=skip_blank_lines)\n\u001b[1;32m    701\u001b[0m \u001b[0;34m\u001b[0m\u001b[0m\n\u001b[0;32m--> 702\u001b[0;31m         \u001b[0;32mreturn\u001b[0m \u001b[0m_read\u001b[0m\u001b[0;34m(\u001b[0m\u001b[0mfilepath_or_buffer\u001b[0m\u001b[0;34m,\u001b[0m \u001b[0mkwds\u001b[0m\u001b[0;34m)\u001b[0m\u001b[0;34m\u001b[0m\u001b[0;34m\u001b[0m\u001b[0m\n\u001b[0m\u001b[1;32m    703\u001b[0m \u001b[0;34m\u001b[0m\u001b[0m\n\u001b[1;32m    704\u001b[0m     \u001b[0mparser_f\u001b[0m\u001b[0;34m.\u001b[0m\u001b[0m__name__\u001b[0m \u001b[0;34m=\u001b[0m \u001b[0mname\u001b[0m\u001b[0;34m\u001b[0m\u001b[0;34m\u001b[0m\u001b[0m\n",
      "\u001b[0;32m~/anaconda3/lib/python3.6/site-packages/pandas/io/parsers.py\u001b[0m in \u001b[0;36m_read\u001b[0;34m(filepath_or_buffer, kwds)\u001b[0m\n\u001b[1;32m    427\u001b[0m \u001b[0;34m\u001b[0m\u001b[0m\n\u001b[1;32m    428\u001b[0m     \u001b[0;31m# Create the parser.\u001b[0m\u001b[0;34m\u001b[0m\u001b[0;34m\u001b[0m\u001b[0;34m\u001b[0m\u001b[0m\n\u001b[0;32m--> 429\u001b[0;31m     \u001b[0mparser\u001b[0m \u001b[0;34m=\u001b[0m \u001b[0mTextFileReader\u001b[0m\u001b[0;34m(\u001b[0m\u001b[0mfilepath_or_buffer\u001b[0m\u001b[0;34m,\u001b[0m \u001b[0;34m**\u001b[0m\u001b[0mkwds\u001b[0m\u001b[0;34m)\u001b[0m\u001b[0;34m\u001b[0m\u001b[0;34m\u001b[0m\u001b[0m\n\u001b[0m\u001b[1;32m    430\u001b[0m \u001b[0;34m\u001b[0m\u001b[0m\n\u001b[1;32m    431\u001b[0m     \u001b[0;32mif\u001b[0m \u001b[0mchunksize\u001b[0m \u001b[0;32mor\u001b[0m \u001b[0miterator\u001b[0m\u001b[0;34m:\u001b[0m\u001b[0;34m\u001b[0m\u001b[0;34m\u001b[0m\u001b[0m\n",
      "\u001b[0;32m~/anaconda3/lib/python3.6/site-packages/pandas/io/parsers.py\u001b[0m in \u001b[0;36m__init__\u001b[0;34m(self, f, engine, **kwds)\u001b[0m\n\u001b[1;32m    893\u001b[0m             \u001b[0mself\u001b[0m\u001b[0;34m.\u001b[0m\u001b[0moptions\u001b[0m\u001b[0;34m[\u001b[0m\u001b[0;34m'has_index_names'\u001b[0m\u001b[0;34m]\u001b[0m \u001b[0;34m=\u001b[0m \u001b[0mkwds\u001b[0m\u001b[0;34m[\u001b[0m\u001b[0;34m'has_index_names'\u001b[0m\u001b[0;34m]\u001b[0m\u001b[0;34m\u001b[0m\u001b[0;34m\u001b[0m\u001b[0m\n\u001b[1;32m    894\u001b[0m \u001b[0;34m\u001b[0m\u001b[0m\n\u001b[0;32m--> 895\u001b[0;31m         \u001b[0mself\u001b[0m\u001b[0;34m.\u001b[0m\u001b[0m_make_engine\u001b[0m\u001b[0;34m(\u001b[0m\u001b[0mself\u001b[0m\u001b[0;34m.\u001b[0m\u001b[0mengine\u001b[0m\u001b[0;34m)\u001b[0m\u001b[0;34m\u001b[0m\u001b[0;34m\u001b[0m\u001b[0m\n\u001b[0m\u001b[1;32m    896\u001b[0m \u001b[0;34m\u001b[0m\u001b[0m\n\u001b[1;32m    897\u001b[0m     \u001b[0;32mdef\u001b[0m \u001b[0mclose\u001b[0m\u001b[0;34m(\u001b[0m\u001b[0mself\u001b[0m\u001b[0;34m)\u001b[0m\u001b[0;34m:\u001b[0m\u001b[0;34m\u001b[0m\u001b[0;34m\u001b[0m\u001b[0m\n",
      "\u001b[0;32m~/anaconda3/lib/python3.6/site-packages/pandas/io/parsers.py\u001b[0m in \u001b[0;36m_make_engine\u001b[0;34m(self, engine)\u001b[0m\n\u001b[1;32m   1120\u001b[0m     \u001b[0;32mdef\u001b[0m \u001b[0m_make_engine\u001b[0m\u001b[0;34m(\u001b[0m\u001b[0mself\u001b[0m\u001b[0;34m,\u001b[0m \u001b[0mengine\u001b[0m\u001b[0;34m=\u001b[0m\u001b[0;34m'c'\u001b[0m\u001b[0;34m)\u001b[0m\u001b[0;34m:\u001b[0m\u001b[0;34m\u001b[0m\u001b[0;34m\u001b[0m\u001b[0m\n\u001b[1;32m   1121\u001b[0m         \u001b[0;32mif\u001b[0m \u001b[0mengine\u001b[0m \u001b[0;34m==\u001b[0m \u001b[0;34m'c'\u001b[0m\u001b[0;34m:\u001b[0m\u001b[0;34m\u001b[0m\u001b[0;34m\u001b[0m\u001b[0m\n\u001b[0;32m-> 1122\u001b[0;31m             \u001b[0mself\u001b[0m\u001b[0;34m.\u001b[0m\u001b[0m_engine\u001b[0m \u001b[0;34m=\u001b[0m \u001b[0mCParserWrapper\u001b[0m\u001b[0;34m(\u001b[0m\u001b[0mself\u001b[0m\u001b[0;34m.\u001b[0m\u001b[0mf\u001b[0m\u001b[0;34m,\u001b[0m \u001b[0;34m**\u001b[0m\u001b[0mself\u001b[0m\u001b[0;34m.\u001b[0m\u001b[0moptions\u001b[0m\u001b[0;34m)\u001b[0m\u001b[0;34m\u001b[0m\u001b[0;34m\u001b[0m\u001b[0m\n\u001b[0m\u001b[1;32m   1123\u001b[0m         \u001b[0;32melse\u001b[0m\u001b[0;34m:\u001b[0m\u001b[0;34m\u001b[0m\u001b[0;34m\u001b[0m\u001b[0m\n\u001b[1;32m   1124\u001b[0m             \u001b[0;32mif\u001b[0m \u001b[0mengine\u001b[0m \u001b[0;34m==\u001b[0m \u001b[0;34m'python'\u001b[0m\u001b[0;34m:\u001b[0m\u001b[0;34m\u001b[0m\u001b[0;34m\u001b[0m\u001b[0m\n",
      "\u001b[0;32m~/anaconda3/lib/python3.6/site-packages/pandas/io/parsers.py\u001b[0m in \u001b[0;36m__init__\u001b[0;34m(self, src, **kwds)\u001b[0m\n\u001b[1;32m   1851\u001b[0m         \u001b[0mkwds\u001b[0m\u001b[0;34m[\u001b[0m\u001b[0;34m'usecols'\u001b[0m\u001b[0;34m]\u001b[0m \u001b[0;34m=\u001b[0m \u001b[0mself\u001b[0m\u001b[0;34m.\u001b[0m\u001b[0musecols\u001b[0m\u001b[0;34m\u001b[0m\u001b[0;34m\u001b[0m\u001b[0m\n\u001b[1;32m   1852\u001b[0m \u001b[0;34m\u001b[0m\u001b[0m\n\u001b[0;32m-> 1853\u001b[0;31m         \u001b[0mself\u001b[0m\u001b[0;34m.\u001b[0m\u001b[0m_reader\u001b[0m \u001b[0;34m=\u001b[0m \u001b[0mparsers\u001b[0m\u001b[0;34m.\u001b[0m\u001b[0mTextReader\u001b[0m\u001b[0;34m(\u001b[0m\u001b[0msrc\u001b[0m\u001b[0;34m,\u001b[0m \u001b[0;34m**\u001b[0m\u001b[0mkwds\u001b[0m\u001b[0;34m)\u001b[0m\u001b[0;34m\u001b[0m\u001b[0;34m\u001b[0m\u001b[0m\n\u001b[0m\u001b[1;32m   1854\u001b[0m         \u001b[0mself\u001b[0m\u001b[0;34m.\u001b[0m\u001b[0munnamed_cols\u001b[0m \u001b[0;34m=\u001b[0m \u001b[0mself\u001b[0m\u001b[0;34m.\u001b[0m\u001b[0m_reader\u001b[0m\u001b[0;34m.\u001b[0m\u001b[0munnamed_cols\u001b[0m\u001b[0;34m\u001b[0m\u001b[0;34m\u001b[0m\u001b[0m\n\u001b[1;32m   1855\u001b[0m \u001b[0;34m\u001b[0m\u001b[0m\n",
      "\u001b[0;32mpandas/_libs/parsers.pyx\u001b[0m in \u001b[0;36mpandas._libs.parsers.TextReader.__cinit__\u001b[0;34m()\u001b[0m\n",
      "\u001b[0;32mpandas/_libs/parsers.pyx\u001b[0m in \u001b[0;36mpandas._libs.parsers.TextReader._setup_parser_source\u001b[0;34m()\u001b[0m\n",
      "\u001b[0;31mFileNotFoundError\u001b[0m: [Errno 2] File b'1227_10_38/res/SR_0325/sol.csv' does not exist: b'1227_10_38/res/SR_0325/sol.csv'"
     ]
    }
   ],
   "source": [
    "for i in range(P):\n",
    "    date = pd.to_datetime(first_date) + timedelta(i * t)\n",
    "    with open('temp.txt', 'w') as f:\n",
    "        f.write('now=\\'{}\\'\\ndate=\\'{}\\''.format(now, date.strftime('%Y/%m/%d')))\n",
    "        \n",
    "    solve_model(now, date)  \n",
    "    print('Finish {}'.format(date.strftime('%m%d')))"
   ]
  },
  {
   "cell_type": "code",
   "execution_count": null,
   "metadata": {},
   "outputs": [],
   "source": []
  },
  {
   "cell_type": "code",
   "execution_count": null,
   "metadata": {},
   "outputs": [],
   "source": []
  },
  {
   "cell_type": "code",
   "execution_count": null,
   "metadata": {},
   "outputs": [],
   "source": []
  }
 ],
 "metadata": {
  "kernelspec": {
   "display_name": "Python 3.6.7 64-bit ('base': conda)",
   "language": "python",
   "name": "python36764bitbaseconda57bf1a7940454bb0a2131a0d8fbf8095"
  },
  "language_info": {
   "codemirror_mode": {
    "name": "ipython",
    "version": 3
   },
   "file_extension": ".py",
   "mimetype": "text/x-python",
   "name": "python",
   "nbconvert_exporter": "python",
   "pygments_lexer": "ipython3",
   "version": "3.6.7"
  },
  "toc": {
   "base_numbering": 1,
   "nav_menu": {},
   "number_sections": true,
   "sideBar": true,
   "skip_h1_title": false,
   "title_cell": "Table of Contents",
   "title_sidebar": "Contents",
   "toc_cell": false,
   "toc_position": {},
   "toc_section_display": true,
   "toc_window_display": false
  }
 },
 "nbformat": 4,
 "nbformat_minor": 2
}

{
 "cells": [
  {
   "cell_type": "code",
   "execution_count": 10,
   "metadata": {},
   "outputs": [],
   "source": [
    "import os\n",
    "import numpy as np\n",
    "import pandas as pd\n",
    "import math\n",
    "from pyomo.environ import *\n",
    "from collections import defaultdict\n",
    "from pyomo.opt import SolverFactory\n",
    "from datetime import timedelta\n",
    "from datetime import datetime\n",
    "import random\n",
    "\n",
    "import shutil\n",
    "import subprocess\n",
    "random.seed(111)"
   ]
  },
  {
   "cell_type": "code",
   "execution_count": 11,
   "metadata": {},
   "outputs": [],
   "source": [
    "now = datetime.now()\n",
    "now = now.strftime(\"%m%d_%H_%M\")\n",
    "os.mkdir(now)\n",
    "\n",
    "raw = pd.read_csv('../../init_data.csv', header=0, index_col=0)\n",
    "\n",
    "\n",
    "#general param\n",
    "states_name = raw['State']\n",
    "first_date = '2020/03/25'\n",
    "\n",
    "t = 7\n",
    "T = 14\n",
    "P = 10\n",
    "S = 51\n",
    "P = 10\n",
    "\n",
    "lbd = 0.01\n",
    "SNS_stock = 12000\n",
    "init_ratio = 0.6\n",
    "flow_bound_ratio = 0.20\n",
    "stock_bound_ratio = 0.5\n",
    "\n",
    "#write to file\n",
    "with open('temp.txt', 'w') as f:\n",
    "    f.write('now=\\'{}\\'\\ndate=\\'{}\\''.format(now, first_date))\n",
    "    \n",
    "with open(now + '/config.txt', 'w') as f:\n",
    "    f.write('lbd={} \\nSNS_stock={} \\ninit_ratio={} \\nflow_bound_ratio={} \\nstock_bound_ratio={}\\n'.format(lbd, SNS_stock, init_ratio, flow_bound_ratio,stock_bound_ratio))"
   ]
  },
  {
   "cell_type": "code",
   "execution_count": 12,
   "metadata": {},
   "outputs": [],
   "source": [
    "prev_date = pd.to_datetime(first_date) - timedelta(t)\n",
    "data = raw.rename(columns={'Available capacity': \"stock_self\"})\n",
    "data['stock_self'] = round(init_ratio * data['stock_self'])\n",
    "data['stock_nb'] = None\n",
    "for i in range(S):\n",
    "    data.loc[i, 'stock_nb'] = str([0 for _ in eval(data.loc[i, 'nb'])])\n",
    "data['stock_sns'] = [0 for _ in range(S + 1)]\n",
    "data.to_csv(now + '/' + prev_date.strftime('%m%d') + '.csv')"
   ]
  },
  {
   "cell_type": "code",
   "execution_count": null,
   "metadata": {},
   "outputs": [],
   "source": []
  },
  {
   "cell_type": "code",
   "execution_count": 13,
   "metadata": {},
   "outputs": [],
   "source": [
    "idx = 0\n",
    "flow_mapping = {}\n",
    "flow_mapping_rev = {}\n",
    "out_flow = defaultdict(list)\n",
    "in_flow = defaultdict(list)\n",
    "\n",
    "for i in range(51):\n",
    "    nbs = eval(data.iloc[i, 3])\n",
    "    out_flow[i] = nbs\n",
    "    for n in nbs:\n",
    "        flow_mapping[(i, n)] = idx\n",
    "        flow_mapping_rev[idx] = (i, n)\n",
    "        in_flow[n].append(i)\n",
    "        idx += 1\n",
    "\n",
    "idx_nb = idx\n",
    "in_flow[51] = []\n",
    "out_flow[51] = list(range(51))\n",
    "for n in range(51):\n",
    "    flow_mapping[(51, n)] = idx\n",
    "    flow_mapping_rev[idx] = (51, n)\n",
    "    idx += 1"
   ]
  },
  {
   "cell_type": "code",
   "execution_count": null,
   "metadata": {},
   "outputs": [],
   "source": []
  },
  {
   "cell_type": "code",
   "execution_count": 14,
   "metadata": {},
   "outputs": [],
   "source": [
    "def sto_file_generator(date, sto):\n",
    "    #open the cor file\n",
    "    prob_name = 'GR_{}'.format(date.strftime(\"%m%d\"))\n",
    "    sto_file = open(sto, 'w')\n",
    "    \n",
    "    sto_file.write('STOCH ' + prob_name + ' \\n')\n",
    "    sto_file.write('BLOCKS DISCRETE REPLACE\\n')\n",
    "    probability = 1 / 3\n",
    "    \n",
    "    for j in range(S):\n",
    "        demand_state = pd.read_csv('../../IHME/' + date.strftime(\"%m%d\") + '/' + data.loc[j, 'State'] + '.csv', header=0, index_col=0)\n",
    "        paths = [demand_state['InvVen_mean'], demand_state['InvVen_mean'] + (demand_state['InvVen_upper'] - demand_state['InvVen_mean']) / 2, demand_state['InvVen_mean'] + (demand_state['InvVen_lower'] - demand_state['InvVen_mean']) / 2] \n",
    "        for k in range(3):\n",
    "            sto_file.write(' BL BLOCK{} PERIOD2 {}\\n'.format(j, probability))\n",
    "\n",
    "            path = {}\n",
    "            for time in range(1, T + 1):\n",
    "                n = 'c_e_dummy_d({}_{})_'.format(j, time)\n",
    "                path[n] =  math.ceil(paths[k][time - 1])\n",
    "            path_sorted = sorted(path.items())\n",
    "            for i in path_sorted:\n",
    "                sto_file.write('\\t RHS {} {}\\n'.format(i[0], i[1]))\n",
    "\n",
    "       \n",
    "    sto_file.write('ENDATA \\n')\n",
    "    sto_file.close()"
   ]
  },
  {
   "cell_type": "code",
   "execution_count": 15,
   "metadata": {},
   "outputs": [],
   "source": [
    "# subprocess.run(['./SD_xcode', 'GR_{}'.format(date.strftime(\"%m%d\")),'./spInput/', './spOutput'], cwd='/Users/jjxu/Desktop/covid_system/SD/')"
   ]
  },
  {
   "cell_type": "code",
   "execution_count": 16,
   "metadata": {},
   "outputs": [],
   "source": [
    "def analysis_results(now, date):\n",
    "    prev_date = date - timedelta(7)\n",
    "    data = pd.read_csv('{}/{}.csv'.format(now, prev_date.strftime(\"%m%d\")), header=0, index_col=0)\n",
    "    sol = pd.read_csv('{}/res/GR_{}/sol.csv'.format(now, date.strftime(\"%m%d\")), header=None, index_col=None)\n",
    "    new_stock_self = [0 for _ in range(52)]\n",
    "    new_flow = defaultdict(int)\n",
    "    new_stock_sns = [0 for _ in range(51)]\n",
    "    for i in range(sol.shape[0]):\n",
    "        name = sol.iloc[i, 0].split('(')\n",
    "        if name[0] == 's0':\n",
    "            new_stock_self[int(name[1].split(')')[0])] = int(round(sol.iloc[i, 1]))\n",
    "        if name[0] == 's0_nb':\n",
    "            cnt = int(name[1].split(')')[0])\n",
    "            f, t = flow_mapping_rev[cnt] \n",
    "            if f == 51:\n",
    "                new_stock_sns[t] = int(round(sol.iloc[i, 1]))    \n",
    "            else:\n",
    "                new_flow[flow_mapping_rev[cnt]] = int(round(sol.iloc[i, 1]))\n",
    "            \n",
    "            \n",
    "    data['stock_self'] = new_stock_self\n",
    "    for i in range(51):\n",
    "        data.loc[i, 'stock_sns'] += data.loc[i, 'stock_sns'] + new_stock_sns[i]\n",
    "    for i in range(51):\n",
    "        l1 = eval(data.loc[i, 'nb_idx'])\n",
    "        l2 = [new_flow[j, i] for j in l1]\n",
    "        data.loc[i, 'stock_nb'] = str(l2)\n",
    "        \n",
    "    data.to_csv('{}/{}.csv'.format(now, date.strftime(\"%m%d\")))\n",
    "    "
   ]
  },
  {
   "cell_type": "code",
   "execution_count": null,
   "metadata": {},
   "outputs": [],
   "source": []
  },
  {
   "cell_type": "code",
   "execution_count": 17,
   "metadata": {},
   "outputs": [],
   "source": [
    "#generate SPMS model\n",
    "#solve with SD\n",
    "#generate new initial data file\n",
    "def solve_model(now, date):\n",
    "    #now: string format\n",
    "    #date: datetime format\n",
    "    #generate SMPS\n",
    "    os.system(\"python -m pyomo.pysp.convert.smps -m GR.py --symbolic-solver-labels --basename GR_{} --output-directory {}/GR_{}\".format(date.strftime(\"%m%d\"), now, date.strftime(\"%m%d\")))\n",
    "    sto = \"{}/GR_{name}/GR_{name}.sto\".format(now, name=date.strftime(\"%m%d\"))\n",
    "    if os.path.exists(sto):\n",
    "        os.remove(sto)\n",
    "    sto_file_generator(date, sto)\n",
    "    \n",
    "    #move sd input file\n",
    "    source = \"{}/GR_{name}\".format(now, name=date.strftime(\"%m%d\"))\n",
    "    destination = \"../../SD/spInput/\"\n",
    "    input_file = \"../../SD/spInput/GR_{}\".format(date.strftime(\"%m%d\"))\n",
    "    if os.path.exists(input_file):\n",
    "        os.remove(input_file)\n",
    "    shutil.move(source, destination)\n",
    "    \n",
    "    #run SD\n",
    "    subprocess.run(['./SD_xcode', 'GR_{}'.format(date.strftime(\"%m%d\")),'./spInput/', './spOutput'], cwd='/Users/jjxu/Desktop/covid_system/SD/')\n",
    "    source = \"../../SD/spOutputtwoSD/GR_{}\".format(date.strftime(\"%m%d\"))\n",
    "    destination = \"{}/res/GR_{}\".format(now, date.strftime(\"%m%d\"))\n",
    "    shutil.move(source, destination)\n",
    "    \n",
    "    #analysis current solution and generate new init data\n",
    "    analysis_results(now, date)"
   ]
  },
  {
   "cell_type": "code",
   "execution_count": null,
   "metadata": {},
   "outputs": [],
   "source": []
  },
  {
   "cell_type": "code",
   "execution_count": null,
   "metadata": {},
   "outputs": [],
   "source": []
  },
  {
   "cell_type": "code",
   "execution_count": null,
   "metadata": {},
   "outputs": [],
   "source": []
  },
  {
   "cell_type": "code",
   "execution_count": 18,
   "metadata": {},
   "outputs": [
    {
     "ename": "KeyboardInterrupt",
     "evalue": "",
     "output_type": "error",
     "traceback": [
      "\u001b[0;31m---------------------------------------------------------------------------\u001b[0m",
      "\u001b[0;31mKeyboardInterrupt\u001b[0m                         Traceback (most recent call last)",
      "\u001b[0;32m<ipython-input-18-725f185e4063>\u001b[0m in \u001b[0;36m<module>\u001b[0;34m\u001b[0m\n\u001b[1;32m      4\u001b[0m         \u001b[0mf\u001b[0m\u001b[0;34m.\u001b[0m\u001b[0mwrite\u001b[0m\u001b[0;34m(\u001b[0m\u001b[0;34m'now=\\'{}\\'\\ndate=\\'{}\\''\u001b[0m\u001b[0;34m.\u001b[0m\u001b[0mformat\u001b[0m\u001b[0;34m(\u001b[0m\u001b[0mnow\u001b[0m\u001b[0;34m,\u001b[0m \u001b[0mdate\u001b[0m\u001b[0;34m.\u001b[0m\u001b[0mstrftime\u001b[0m\u001b[0;34m(\u001b[0m\u001b[0;34m'%Y/%m/%d'\u001b[0m\u001b[0;34m)\u001b[0m\u001b[0;34m)\u001b[0m\u001b[0;34m)\u001b[0m\u001b[0;34m\u001b[0m\u001b[0;34m\u001b[0m\u001b[0m\n\u001b[1;32m      5\u001b[0m \u001b[0;34m\u001b[0m\u001b[0m\n\u001b[0;32m----> 6\u001b[0;31m     \u001b[0msolve_model\u001b[0m\u001b[0;34m(\u001b[0m\u001b[0mnow\u001b[0m\u001b[0;34m,\u001b[0m \u001b[0mdate\u001b[0m\u001b[0;34m)\u001b[0m\u001b[0;34m\u001b[0m\u001b[0;34m\u001b[0m\u001b[0m\n\u001b[0m\u001b[1;32m      7\u001b[0m     \u001b[0mprint\u001b[0m\u001b[0;34m(\u001b[0m\u001b[0;34m'Finish {}'\u001b[0m\u001b[0;34m.\u001b[0m\u001b[0mformat\u001b[0m\u001b[0;34m(\u001b[0m\u001b[0mdate\u001b[0m\u001b[0;34m.\u001b[0m\u001b[0mstrftime\u001b[0m\u001b[0;34m(\u001b[0m\u001b[0;34m'%m%d'\u001b[0m\u001b[0;34m)\u001b[0m\u001b[0;34m)\u001b[0m\u001b[0;34m)\u001b[0m\u001b[0;34m\u001b[0m\u001b[0;34m\u001b[0m\u001b[0m\n",
      "\u001b[0;32m<ipython-input-17-b0d0610c436d>\u001b[0m in \u001b[0;36msolve_model\u001b[0;34m(now, date)\u001b[0m\n\u001b[1;32m     21\u001b[0m \u001b[0;34m\u001b[0m\u001b[0m\n\u001b[1;32m     22\u001b[0m     \u001b[0;31m#run SD\u001b[0m\u001b[0;34m\u001b[0m\u001b[0;34m\u001b[0m\u001b[0;34m\u001b[0m\u001b[0m\n\u001b[0;32m---> 23\u001b[0;31m     \u001b[0msubprocess\u001b[0m\u001b[0;34m.\u001b[0m\u001b[0mrun\u001b[0m\u001b[0;34m(\u001b[0m\u001b[0;34m[\u001b[0m\u001b[0;34m'./SD_xcode'\u001b[0m\u001b[0;34m,\u001b[0m \u001b[0;34m'GR_{}'\u001b[0m\u001b[0;34m.\u001b[0m\u001b[0mformat\u001b[0m\u001b[0;34m(\u001b[0m\u001b[0mdate\u001b[0m\u001b[0;34m.\u001b[0m\u001b[0mstrftime\u001b[0m\u001b[0;34m(\u001b[0m\u001b[0;34m\"%m%d\"\u001b[0m\u001b[0;34m)\u001b[0m\u001b[0;34m)\u001b[0m\u001b[0;34m,\u001b[0m\u001b[0;34m'./spInput/'\u001b[0m\u001b[0;34m,\u001b[0m \u001b[0;34m'./spOutput'\u001b[0m\u001b[0;34m]\u001b[0m\u001b[0;34m,\u001b[0m \u001b[0mcwd\u001b[0m\u001b[0;34m=\u001b[0m\u001b[0;34m'/Users/jjxu/Desktop/covid_system/SD/'\u001b[0m\u001b[0;34m)\u001b[0m\u001b[0;34m\u001b[0m\u001b[0;34m\u001b[0m\u001b[0m\n\u001b[0m\u001b[1;32m     24\u001b[0m     \u001b[0msource\u001b[0m \u001b[0;34m=\u001b[0m \u001b[0;34m\"../../SD/spOutputtwoSD/GR_{}\"\u001b[0m\u001b[0;34m.\u001b[0m\u001b[0mformat\u001b[0m\u001b[0;34m(\u001b[0m\u001b[0mdate\u001b[0m\u001b[0;34m.\u001b[0m\u001b[0mstrftime\u001b[0m\u001b[0;34m(\u001b[0m\u001b[0;34m\"%m%d\"\u001b[0m\u001b[0;34m)\u001b[0m\u001b[0;34m)\u001b[0m\u001b[0;34m\u001b[0m\u001b[0;34m\u001b[0m\u001b[0m\n\u001b[1;32m     25\u001b[0m     \u001b[0mdestination\u001b[0m \u001b[0;34m=\u001b[0m \u001b[0;34m\"{}/res/GR_{}\"\u001b[0m\u001b[0;34m.\u001b[0m\u001b[0mformat\u001b[0m\u001b[0;34m(\u001b[0m\u001b[0mnow\u001b[0m\u001b[0;34m,\u001b[0m \u001b[0mdate\u001b[0m\u001b[0;34m.\u001b[0m\u001b[0mstrftime\u001b[0m\u001b[0;34m(\u001b[0m\u001b[0;34m\"%m%d\"\u001b[0m\u001b[0;34m)\u001b[0m\u001b[0;34m)\u001b[0m\u001b[0;34m\u001b[0m\u001b[0;34m\u001b[0m\u001b[0m\n",
      "\u001b[0;32m~/anaconda3/lib/python3.6/subprocess.py\u001b[0m in \u001b[0;36mrun\u001b[0;34m(input, timeout, check, *popenargs, **kwargs)\u001b[0m\n\u001b[1;32m    403\u001b[0m     \u001b[0;32mwith\u001b[0m \u001b[0mPopen\u001b[0m\u001b[0;34m(\u001b[0m\u001b[0;34m*\u001b[0m\u001b[0mpopenargs\u001b[0m\u001b[0;34m,\u001b[0m \u001b[0;34m**\u001b[0m\u001b[0mkwargs\u001b[0m\u001b[0;34m)\u001b[0m \u001b[0;32mas\u001b[0m \u001b[0mprocess\u001b[0m\u001b[0;34m:\u001b[0m\u001b[0;34m\u001b[0m\u001b[0;34m\u001b[0m\u001b[0m\n\u001b[1;32m    404\u001b[0m         \u001b[0;32mtry\u001b[0m\u001b[0;34m:\u001b[0m\u001b[0;34m\u001b[0m\u001b[0;34m\u001b[0m\u001b[0m\n\u001b[0;32m--> 405\u001b[0;31m             \u001b[0mstdout\u001b[0m\u001b[0;34m,\u001b[0m \u001b[0mstderr\u001b[0m \u001b[0;34m=\u001b[0m \u001b[0mprocess\u001b[0m\u001b[0;34m.\u001b[0m\u001b[0mcommunicate\u001b[0m\u001b[0;34m(\u001b[0m\u001b[0minput\u001b[0m\u001b[0;34m,\u001b[0m \u001b[0mtimeout\u001b[0m\u001b[0;34m=\u001b[0m\u001b[0mtimeout\u001b[0m\u001b[0;34m)\u001b[0m\u001b[0;34m\u001b[0m\u001b[0;34m\u001b[0m\u001b[0m\n\u001b[0m\u001b[1;32m    406\u001b[0m         \u001b[0;32mexcept\u001b[0m \u001b[0mTimeoutExpired\u001b[0m\u001b[0;34m:\u001b[0m\u001b[0;34m\u001b[0m\u001b[0;34m\u001b[0m\u001b[0m\n\u001b[1;32m    407\u001b[0m             \u001b[0mprocess\u001b[0m\u001b[0;34m.\u001b[0m\u001b[0mkill\u001b[0m\u001b[0;34m(\u001b[0m\u001b[0;34m)\u001b[0m\u001b[0;34m\u001b[0m\u001b[0;34m\u001b[0m\u001b[0m\n",
      "\u001b[0;32m~/anaconda3/lib/python3.6/subprocess.py\u001b[0m in \u001b[0;36mcommunicate\u001b[0;34m(self, input, timeout)\u001b[0m\n\u001b[1;32m    833\u001b[0m                 \u001b[0mstderr\u001b[0m \u001b[0;34m=\u001b[0m \u001b[0mself\u001b[0m\u001b[0;34m.\u001b[0m\u001b[0mstderr\u001b[0m\u001b[0;34m.\u001b[0m\u001b[0mread\u001b[0m\u001b[0;34m(\u001b[0m\u001b[0;34m)\u001b[0m\u001b[0;34m\u001b[0m\u001b[0;34m\u001b[0m\u001b[0m\n\u001b[1;32m    834\u001b[0m                 \u001b[0mself\u001b[0m\u001b[0;34m.\u001b[0m\u001b[0mstderr\u001b[0m\u001b[0;34m.\u001b[0m\u001b[0mclose\u001b[0m\u001b[0;34m(\u001b[0m\u001b[0;34m)\u001b[0m\u001b[0;34m\u001b[0m\u001b[0;34m\u001b[0m\u001b[0m\n\u001b[0;32m--> 835\u001b[0;31m             \u001b[0mself\u001b[0m\u001b[0;34m.\u001b[0m\u001b[0mwait\u001b[0m\u001b[0;34m(\u001b[0m\u001b[0;34m)\u001b[0m\u001b[0;34m\u001b[0m\u001b[0;34m\u001b[0m\u001b[0m\n\u001b[0m\u001b[1;32m    836\u001b[0m         \u001b[0;32melse\u001b[0m\u001b[0;34m:\u001b[0m\u001b[0;34m\u001b[0m\u001b[0;34m\u001b[0m\u001b[0m\n\u001b[1;32m    837\u001b[0m             \u001b[0;32mif\u001b[0m \u001b[0mtimeout\u001b[0m \u001b[0;32mis\u001b[0m \u001b[0;32mnot\u001b[0m \u001b[0;32mNone\u001b[0m\u001b[0;34m:\u001b[0m\u001b[0;34m\u001b[0m\u001b[0;34m\u001b[0m\u001b[0m\n",
      "\u001b[0;32m~/anaconda3/lib/python3.6/subprocess.py\u001b[0m in \u001b[0;36mwait\u001b[0;34m(self, timeout, endtime)\u001b[0m\n\u001b[1;32m   1455\u001b[0m                         \u001b[0;32mif\u001b[0m \u001b[0mself\u001b[0m\u001b[0;34m.\u001b[0m\u001b[0mreturncode\u001b[0m \u001b[0;32mis\u001b[0m \u001b[0;32mnot\u001b[0m \u001b[0;32mNone\u001b[0m\u001b[0;34m:\u001b[0m\u001b[0;34m\u001b[0m\u001b[0;34m\u001b[0m\u001b[0m\n\u001b[1;32m   1456\u001b[0m                             \u001b[0;32mbreak\u001b[0m  \u001b[0;31m# Another thread waited.\u001b[0m\u001b[0;34m\u001b[0m\u001b[0;34m\u001b[0m\u001b[0m\n\u001b[0;32m-> 1457\u001b[0;31m                         \u001b[0;34m(\u001b[0m\u001b[0mpid\u001b[0m\u001b[0;34m,\u001b[0m \u001b[0msts\u001b[0m\u001b[0;34m)\u001b[0m \u001b[0;34m=\u001b[0m \u001b[0mself\u001b[0m\u001b[0;34m.\u001b[0m\u001b[0m_try_wait\u001b[0m\u001b[0;34m(\u001b[0m\u001b[0;36m0\u001b[0m\u001b[0;34m)\u001b[0m\u001b[0;34m\u001b[0m\u001b[0;34m\u001b[0m\u001b[0m\n\u001b[0m\u001b[1;32m   1458\u001b[0m                         \u001b[0;31m# Check the pid and loop as waitpid has been known to\u001b[0m\u001b[0;34m\u001b[0m\u001b[0;34m\u001b[0m\u001b[0;34m\u001b[0m\u001b[0m\n\u001b[1;32m   1459\u001b[0m                         \u001b[0;31m# return 0 even without WNOHANG in odd situations.\u001b[0m\u001b[0;34m\u001b[0m\u001b[0;34m\u001b[0m\u001b[0;34m\u001b[0m\u001b[0m\n",
      "\u001b[0;32m~/anaconda3/lib/python3.6/subprocess.py\u001b[0m in \u001b[0;36m_try_wait\u001b[0;34m(self, wait_flags)\u001b[0m\n\u001b[1;32m   1402\u001b[0m             \u001b[0;34m\"\"\"All callers to this function MUST hold self._waitpid_lock.\"\"\"\u001b[0m\u001b[0;34m\u001b[0m\u001b[0;34m\u001b[0m\u001b[0m\n\u001b[1;32m   1403\u001b[0m             \u001b[0;32mtry\u001b[0m\u001b[0;34m:\u001b[0m\u001b[0;34m\u001b[0m\u001b[0;34m\u001b[0m\u001b[0m\n\u001b[0;32m-> 1404\u001b[0;31m                 \u001b[0;34m(\u001b[0m\u001b[0mpid\u001b[0m\u001b[0;34m,\u001b[0m \u001b[0msts\u001b[0m\u001b[0;34m)\u001b[0m \u001b[0;34m=\u001b[0m \u001b[0mos\u001b[0m\u001b[0;34m.\u001b[0m\u001b[0mwaitpid\u001b[0m\u001b[0;34m(\u001b[0m\u001b[0mself\u001b[0m\u001b[0;34m.\u001b[0m\u001b[0mpid\u001b[0m\u001b[0;34m,\u001b[0m \u001b[0mwait_flags\u001b[0m\u001b[0;34m)\u001b[0m\u001b[0;34m\u001b[0m\u001b[0;34m\u001b[0m\u001b[0m\n\u001b[0m\u001b[1;32m   1405\u001b[0m             \u001b[0;32mexcept\u001b[0m \u001b[0mChildProcessError\u001b[0m\u001b[0;34m:\u001b[0m\u001b[0;34m\u001b[0m\u001b[0;34m\u001b[0m\u001b[0m\n\u001b[1;32m   1406\u001b[0m                 \u001b[0;31m# This happens if SIGCLD is set to be ignored or waiting\u001b[0m\u001b[0;34m\u001b[0m\u001b[0;34m\u001b[0m\u001b[0;34m\u001b[0m\u001b[0m\n",
      "\u001b[0;31mKeyboardInterrupt\u001b[0m: "
     ]
    }
   ],
   "source": [
    "for i in range(P):\n",
    "    date = pd.to_datetime(first_date) + timedelta(i * t)\n",
    "    with open('temp.txt', 'w') as f:\n",
    "        f.write('now=\\'{}\\'\\ndate=\\'{}\\''.format(now, date.strftime('%Y/%m/%d')))\n",
    "        \n",
    "    solve_model(now, date)  \n",
    "    print('Finish {}'.format(date.strftime('%m%d')))"
   ]
  },
  {
   "cell_type": "code",
   "execution_count": null,
   "metadata": {},
   "outputs": [],
   "source": []
  },
  {
   "cell_type": "code",
   "execution_count": null,
   "metadata": {},
   "outputs": [],
   "source": []
  },
  {
   "cell_type": "code",
   "execution_count": null,
   "metadata": {},
   "outputs": [],
   "source": []
  }
 ],
 "metadata": {
  "kernelspec": {
   "display_name": "Python 3.6.7 64-bit ('base': conda)",
   "language": "python",
   "name": "python36764bitbaseconda57bf1a7940454bb0a2131a0d8fbf8095"
  },
  "language_info": {
   "codemirror_mode": {
    "name": "ipython",
    "version": 3
   },
   "file_extension": ".py",
   "mimetype": "text/x-python",
   "name": "python",
   "nbconvert_exporter": "python",
   "pygments_lexer": "ipython3",
   "version": "3.6.7"
  },
  "toc": {
   "base_numbering": 1,
   "nav_menu": {},
   "number_sections": true,
   "sideBar": true,
   "skip_h1_title": false,
   "title_cell": "Table of Contents",
   "title_sidebar": "Contents",
   "toc_cell": false,
   "toc_position": {},
   "toc_section_display": true,
   "toc_window_display": false
  }
 },
 "nbformat": 4,
 "nbformat_minor": 2
}

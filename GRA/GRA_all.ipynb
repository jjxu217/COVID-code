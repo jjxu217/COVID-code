{
 "cells": [
  {
   "cell_type": "code",
   "execution_count": 38,
   "metadata": {},
   "outputs": [],
   "source": [
    "import os\n",
    "import numpy as np\n",
    "import pandas as pd\n",
    "import math\n",
    "from pyomo.environ import *\n",
    "from collections import defaultdict\n",
    "from pyomo.opt import SolverFactory\n",
    "from datetime import timedelta\n",
    "from datetime import datetime\n",
    "import random\n",
    "\n",
    "import shutil\n",
    "import subprocess\n",
    "random.seed(111)"
   ]
  },
  {
   "cell_type": "code",
   "execution_count": 39,
   "metadata": {},
   "outputs": [],
   "source": [
    "now = datetime.now()\n",
    "now = now.strftime(\"%m%d_%H_%M\")\n",
    "os.mkdir(now)\n",
    "\n",
    "raw = pd.read_csv('../../init_data.csv', header=0, index_col=0)\n",
    "\n",
    "\n",
    "#general param\n",
    "states_name = raw['State']\n",
    "first_date = '2020/03/25'\n",
    "\n",
    "t = 7\n",
    "T = 14\n",
    "P = 10\n",
    "S = 51\n",
    "P = 10\n",
    "\n",
    "lbd = 0.01\n",
    "SNS_stock = 12000\n",
    "init_ratio = 0.6\n",
    "flow_bound_ratio = 0.20\n",
    "stock_bound_ratio = 0.5\n",
    "\n",
    "#write to file\n",
    "with open('temp.txt', 'w') as f:\n",
    "    f.write('now=\\'{}\\'\\ndate=\\'{}\\''.format(now, first_date))\n",
    "    \n",
    "with open(now + '/config.txt', 'w') as f:\n",
    "    f.write('lbd={} \\nSNS_stock={} \\ninit_ratio={} \\nflow_bound_ratio={} \\nstock_bound_ratio={}\\n'.format(lbd, SNS_stock, init_ratio, flow_bound_ratio,stock_bound_ratio))"
   ]
  },
  {
   "cell_type": "code",
   "execution_count": 40,
   "metadata": {},
   "outputs": [],
   "source": [
    "prev_date = pd.to_datetime(first_date) - timedelta(t)\n",
    "data = raw.rename(columns={'Available capacity': \"stock_self\"})\n",
    "data['stock_self'] = round(init_ratio * data['stock_self'])\n",
    "data['stock_nb'] = None\n",
    "for i in range(S):\n",
    "    data.loc[i, 'stock_nb'] = str([0 for _ in eval(data.loc[i, 'nb'])])\n",
    "data['stock_sns'] = [0 for _ in range(S)]\n",
    "data.to_csv(now + '/' + prev_date.strftime('%m%d') + '.csv')"
   ]
  },
  {
   "cell_type": "code",
   "execution_count": null,
   "metadata": {},
   "outputs": [],
   "source": []
  },
  {
   "cell_type": "code",
   "execution_count": 41,
   "metadata": {},
   "outputs": [],
   "source": [
    "idx = 0\n",
    "flow_mapping = {}\n",
    "flow_mapping_rev = {}\n",
    "out_flow = defaultdict(list)\n",
    "in_flow = defaultdict(list)\n",
    "\n",
    "for i in range(51):\n",
    "    nbs = eval(data.iloc[i, 3])\n",
    "    out_flow[i] = nbs\n",
    "    for n in nbs:\n",
    "        flow_mapping[(i, n)] = idx\n",
    "        flow_mapping_rev[idx] = (i, n)\n",
    "        in_flow[n].append(i)\n",
    "        idx += 1\n",
    "\n",
    "idx_nb = idx\n",
    "in_flow[51] = []\n",
    "out_flow[51] = list(range(51))\n",
    "for n in range(51):\n",
    "    flow_mapping[(51, n)] = idx\n",
    "    flow_mapping_rev[idx] = (51, n)\n",
    "    idx += 1"
   ]
  },
  {
   "cell_type": "code",
   "execution_count": null,
   "metadata": {},
   "outputs": [],
   "source": []
  },
  {
   "cell_type": "code",
   "execution_count": 42,
   "metadata": {},
   "outputs": [],
   "source": [
    "\n",
    "def sto_file_generator(date, sto):\n",
    "    #open the sto file\n",
    "    prob_name = 'GRA_{}'.format(date.strftime(\"%m%d\"))\n",
    "    sto_file = open(sto, 'w')\n",
    "    \n",
    "    sto_file.write('STOCH ' + prob_name + ' \\n')\n",
    "    sto_file.write('BLOCKS DISCRETE REPLACE\\n')\n",
    "    probability = 1 / 3\n",
    "    \n",
    "    \n",
    "    for j in range(S):\n",
    "        demand_state = pd.read_csv('../../IHME/' + date.strftime(\"%m%d\") + '/' + data.loc[j, 'State'] + '.csv', header=0, index_col=0)\n",
    "        d = [demand_state['InvVen_lower'], demand_state['InvVen_mean'], demand_state['InvVen_upper']]\n",
    "\n",
    "        paths = [[], [], []]\n",
    "        paths[0] = list(d[1] + 0.5 * (d[2] - d[1]))[0:7] + list(d[1] + 0.75 * (d[2] - d[1]))[7:14] \\\n",
    "            + list(d[1] + 0.5 * (d[2] - d[1]))[7:14] + list(d[1] + 0.25 * (d[2] - d[1]))[7:14]\n",
    "        paths[1] = list(d[1])[0:7] + list(d[1] + 0.25 * (d[2] - d[1]))[7: 14] \\\n",
    "            + list(d[1])[7:14] + list(d[1] + 0.25 * (d[0] - d[1]))[7: 14]\n",
    "        paths[2] = list(d[1] + 0.5 * (d[0] - d[1]))[0:7] + list(d[1] + 0.25 * (d[0] - d[1]))[7:14] \\\n",
    "            + list(d[1] + 0.5 * (d[0] - d[1]))[7:14] + list(d[1] +0.75 * (d[0] - d[1]))[7:14] \n",
    "        \n",
    "\n",
    "        for k in range(3):\n",
    "            sto_file.write(' BL BLOCK{} PERIOD2 {}\\n'.format(j, probability))\n",
    "\n",
    "            path = {}\n",
    "            for time in range(1, t + 1):\n",
    "                n = 'c_e_dummy_d({}_{})_'.format(j, time)\n",
    "                path[n] =  paths[k].pop(0)\n",
    "            for time in range(t + 1, T + 1):\n",
    "                for sub_k in range(3):\n",
    "                    n = 'c_e_dummy_d_k({}_{}_{})_'.format(j, time, sub_k)\n",
    "                    path[n] =  paths[k].pop(0)\n",
    "\n",
    "            path_sorted = sorted(path.items())\n",
    "            for i in path_sorted:\n",
    "                sto_file.write('\\t RHS {} {}\\n'.format(i[0], i[1]))\n",
    "  \n",
    "    sto_file.write('ENDATA \\n')\n",
    "    sto_file.close()"
   ]
  },
  {
   "cell_type": "code",
   "execution_count": 43,
   "metadata": {},
   "outputs": [],
   "source": [
    "# subprocess.run(['./SD_xcode', 'GRA_{}'.format(date.strftime(\"%m%d\")),'./spInput/', './spOutput'], cwd='/Users/jjxu/Desktop/covid_system/SD/')"
   ]
  },
  {
   "cell_type": "code",
   "execution_count": 44,
   "metadata": {},
   "outputs": [],
   "source": [
    "def analysis_results(now, date):\n",
    "    prev_date = date - timedelta(7)\n",
    "    data = pd.read_csv('{}/{}.csv'.format(now, prev_date.strftime(\"%m%d\")), header=0, index_col=0)\n",
    "    sol = pd.read_csv('{}/res/GRA_{}/sol.csv'.format(now, date.strftime(\"%m%d\")), header=None, index_col=None)\n",
    "    new_stock_self = [0 for _ in range(52)]\n",
    "    new_flow = defaultdict(int)\n",
    "    new_stock_sns = [0 for _ in range(51)]\n",
    "    for i in range(sol.shape[0]):\n",
    "        name = sol.iloc[i, 0].split('(')\n",
    "        if name[0] == 's0':\n",
    "            new_stock_self[int(name[1].split(')')[0])] = int(round(sol.iloc[i, 1]))\n",
    "        if name[0] == 's0_nb':\n",
    "            cnt = int(name[1].split(')')[0])\n",
    "            f, t = flow_mapping_rev[cnt] \n",
    "            if f == 51:\n",
    "                new_stock_sns[t] = int(round(sol.iloc[i, 1]))    \n",
    "            else:\n",
    "                new_flow[flow_mapping_rev[cnt]] = int(round(sol.iloc[i, 1]))\n",
    "            \n",
    "            \n",
    "    data['stock_self'] = new_stock_self[:-1]\n",
    "    data['stock_sns'] = new_stock_sns\n",
    "    for i in range(51):\n",
    "        l1 = eval(data.loc[i, 'nb_idx'])\n",
    "        l2 = [new_flow[j, i] for j in l1]\n",
    "        data.loc[i, 'stock_nb'] = str(l2)\n",
    "        \n",
    "    data.to_csv('{}/{}.csv'.format(now, date.strftime(\"%m%d\")))\n",
    "    "
   ]
  },
  {
   "cell_type": "code",
   "execution_count": null,
   "metadata": {},
   "outputs": [],
   "source": []
  },
  {
   "cell_type": "code",
   "execution_count": 45,
   "metadata": {},
   "outputs": [],
   "source": [
    "#generate SPMS model\n",
    "#solve with SD\n",
    "#generate new initial data file\n",
    "def solve_model(now, date):\n",
    "    #now: string format\n",
    "    #date: datetime format\n",
    "    #generate SMPS\n",
    "    os.system(\"python -m pyomo.pysp.convert.smps -m GRA.py --symbolic-solver-labels --basename GRA_{} --output-directory {}/GRA_{}\".format(date.strftime(\"%m%d\"), now, date.strftime(\"%m%d\")))\n",
    "    sto = \"{}/GRA_{name}/GRA_{name}.sto\".format(now, name=date.strftime(\"%m%d\"))\n",
    "    if os.path.exists(sto):\n",
    "        os.remove(sto)\n",
    "    sto_file_generator(date, sto)\n",
    "    \n",
    "    #move sd input file\n",
    "    source = \"{}/GRA_{name}\".format(now, name=date.strftime(\"%m%d\"))\n",
    "    destination = \"../../SD/spInput/\"\n",
    "    input_file = \"../../SD/spInput/GRA_{}\".format(date.strftime(\"%m%d\"))\n",
    "    if os.path.exists(input_file):\n",
    "        os.remove(input_file)\n",
    "    shutil.move(source, destination)\n",
    "    \n",
    "    #run SD\n",
    "    subprocess.run(['./SD_xcode', 'GRA_{}'.format(date.strftime(\"%m%d\")),'./spInput/', './spOutput'], cwd='/Users/jjxu/Desktop/covid_system/SD/')\n",
    "    source = \"../../SD/spOutputtwoSD/GRA_{}\".format(date.strftime(\"%m%d\"))\n",
    "    destination = \"{}/res/GRA_{}\".format(now, date.strftime(\"%m%d\"))\n",
    "    shutil.move(source, destination)\n",
    "    \n",
    "    #analysis current solution and generate new init data\n",
    "    analysis_results(now, date)"
   ]
  },
  {
   "cell_type": "code",
   "execution_count": null,
   "metadata": {},
   "outputs": [],
   "source": []
  },
  {
   "cell_type": "code",
   "execution_count": null,
   "metadata": {},
   "outputs": [],
   "source": []
  },
  {
   "cell_type": "code",
   "execution_count": 46,
   "metadata": {},
   "outputs": [
    {
     "output_type": "stream",
     "name": "stdout",
     "text": [
      "Finish 0325\n",
      "Finish 0401\n",
      "Finish 0408\n",
      "Finish 0415\n",
      "Finish 0422\n",
      "Finish 0429\n",
      "Finish 0506\n",
      "Finish 0513\n",
      "Finish 0520\n",
      "Finish 0527\n"
     ]
    }
   ],
   "source": [
    "for i in range(P):\n",
    "    date = pd.to_datetime(first_date) + timedelta(i * t)\n",
    "    with open('temp.txt', 'w') as f:\n",
    "        f.write('now=\\'{}\\'\\ndate=\\'{}\\''.format(now, date.strftime('%Y/%m/%d')))\n",
    "        \n",
    "    solve_model(now, date)  \n",
    "    print('Finish {}'.format(date.strftime('%m%d')))"
   ]
  },
  {
   "cell_type": "code",
   "execution_count": null,
   "metadata": {},
   "outputs": [],
   "source": []
  },
  {
   "cell_type": "code",
   "execution_count": null,
   "metadata": {},
   "outputs": [],
   "source": []
  },
  {
   "cell_type": "code",
   "execution_count": null,
   "metadata": {},
   "outputs": [],
   "source": []
  }
 ],
 "metadata": {
  "kernelspec": {
   "display_name": "Python 3.6.7 64-bit ('base': conda)",
   "language": "python",
   "name": "python36764bitbaseconda57bf1a7940454bb0a2131a0d8fbf8095"
  },
  "language_info": {
   "codemirror_mode": {
    "name": "ipython",
    "version": 3
   },
   "file_extension": ".py",
   "mimetype": "text/x-python",
   "name": "python",
   "nbconvert_exporter": "python",
   "pygments_lexer": "ipython3",
   "version": "3.6.7-final"
  },
  "toc": {
   "base_numbering": 1,
   "nav_menu": {},
   "number_sections": true,
   "sideBar": true,
   "skip_h1_title": false,
   "title_cell": "Table of Contents",
   "title_sidebar": "Contents",
   "toc_cell": false,
   "toc_position": {},
   "toc_section_display": true,
   "toc_window_display": false
  }
 },
 "nbformat": 4,
 "nbformat_minor": 2
}